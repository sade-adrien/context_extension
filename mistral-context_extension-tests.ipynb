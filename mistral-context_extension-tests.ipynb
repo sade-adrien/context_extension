{
 "cells": [
  {
   "cell_type": "code",
   "execution_count": 1,
   "metadata": {},
   "outputs": [],
   "source": [
    "from transformers import AutoTokenizer, AutoModelForCausalLM, AutoConfig, Trainer, TrainingArguments, logging\n",
    "from datasets import load_dataset, DatasetDict, Dataset\n",
    "from sklearn.model_selection import train_test_split\n",
    "from peft import LoraConfig, get_peft_model\n",
    "from huggingface_hub import notebook_login\n",
    "import torch.nn as nn\n",
    "from tools import *\n",
    "import torch\n",
    "import os"
   ]
  },
  {
   "cell_type": "code",
   "execution_count": 2,
   "metadata": {},
   "outputs": [
    {
     "data": {
      "application/vnd.jupyter.widget-view+json": {
       "model_id": "586eed4b8b574985ac58872dd5d78ecc",
       "version_major": 2,
       "version_minor": 0
      },
      "text/plain": [
       "Loading checkpoint shards:   0%|          | 0/2 [00:00<?, ?it/s]"
      ]
     },
     "metadata": {},
     "output_type": "display_data"
    }
   ],
   "source": [
    "device = \"cuda\"\n",
    "checkpoint = \"mistralai/Mistral-7B-v0.1\"\n",
    "\n",
    "config = AutoConfig.from_pretrained(checkpoint)\n",
    "config.update({'sliding_window' : 8_192}) \n",
    "config.update({'rope_scaling' : {\"type\": \"yarn\",\n",
    "                                 \"factor\": 2, \n",
    "                                 \"original_max_position_embeddings\": 8192,\n",
    "                                 \"finetuned\": True,\n",
    "                                }})  \n",
    "\n",
    "\n",
    "tokenizer = AutoTokenizer.from_pretrained(checkpoint, use_fast = False, revision = 'main')\n",
    "model = AutoModelForCausalLM.from_pretrained(checkpoint,\n",
    "                                            low_cpu_mem_usage = True,\n",
    "                                            torch_dtype = torch.float16,\n",
    "                                            revision = 'main',\n",
    "                                            device_map = 'auto',\n",
    "                                            use_flash_attention_2 = True,\n",
    "                                            config = config,)"
   ]
  },
  {
   "cell_type": "code",
   "execution_count": 3,
   "metadata": {},
   "outputs": [],
   "source": [
    "lora_r_default = 8\n",
    "lora_alpha_default = 32\n",
    "lora_dropout_default = 0.05\n",
    "\n",
    "lora_config = LoraConfig(\n",
    "        r=lora_r_default, \n",
    "        lora_alpha=lora_alpha_default, \n",
    "        lora_dropout=lora_dropout_default,\n",
    "        bias=\"none\", \n",
    "        task_type=\"CAUSAL_LM\",  \n",
    "        target_modules = [\"q_proj\", \"k_proj\", \"v_proj\"],\n",
    "        )\n",
    "\n",
    "model.enable_input_require_grads()\n",
    "model = get_peft_model(model, lora_config)"
   ]
  },
  {
   "cell_type": "code",
   "execution_count": 17,
   "metadata": {},
   "outputs": [],
   "source": [
    "path = './model_weights/Mistral-7B-v0.1-context_extension-stage1/checkpoint_400.pt'\n",
    "\n",
    "def load_weights(model, path):\n",
    "    saved_weights = torch.load(path)\n",
    "    param_count = 0\n",
    "    for key, val in saved_weights['model_state_dict'].items():\n",
    "        for name, param in model.named_parameters():\n",
    "            if key == name:\n",
    "                param.data = val.data\n",
    "                param_count += val.numel()\n",
    "                break\n",
    "    \n",
    "    print(f'{param_count:,} parameters were loaded successfully.')\n",
    "\n",
    "load_weights(model, path)"
   ]
  },
  {
   "cell_type": "code",
   "execution_count": 33,
   "metadata": {},
   "outputs": [],
   "source": [
    "for n,p in model.named_parameters():\n",
    "    p.data = p.data.to(torch.float16)"
   ]
  },
  {
   "cell_type": "code",
   "execution_count": 51,
   "metadata": {},
   "outputs": [
    {
     "name": "stderr",
     "output_type": "stream",
     "text": [
      "Setting `pad_token_id` to `eos_token_id`:2 for open-end generation.\n"
     ]
    },
    {
     "name": "stdout",
     "output_type": "stream",
     "text": [
      "100 times more powerful than GPT-3, and it’s already being used to create AI-generated art, music, and text. But what does this mean for the future of AI? In this blog post, we’ll explore the potential implications of GPT-4 and how it could change the way we interact with technology.\n",
      "\n",
      "## What is GPT-4?\n",
      "\n",
      "GPT-4 is a new type of artificial intelligence (AI) that is being developed by OpenAI. It is a successor to GPT-3, which was released in 2018. GPT-4 is designed to be more powerful and more versatile than GPT-3. It is capable of understanding and generating natural language text, as well as images and other types of data.\n",
      "\n",
      "GPT-4 is still in development, but it is already being used to create AI-generated art, music, and text. In the future,\n"
     ]
    }
   ],
   "source": [
    "model.eval()\n",
    "prompt = 'GPT-4 is '\n",
    "inputs = tokenizer(prompt, return_tensors='pt').to(device)\n",
    "\n",
    "with torch.no_grad():\n",
    "    outputs = model.generate(**inputs, max_new_tokens=200)\n",
    "    print(tokenizer.decode(outputs[0, inputs['input_ids'].shape[1]:]))"
   ]
  }
 ],
 "metadata": {
  "kernelspec": {
   "display_name": "context_extension",
   "language": "python",
   "name": "context_extension"
  },
  "language_info": {
   "codemirror_mode": {
    "name": "ipython",
    "version": 3
   },
   "file_extension": ".py",
   "mimetype": "text/x-python",
   "name": "python",
   "nbconvert_exporter": "python",
   "pygments_lexer": "ipython3",
   "version": "3.11.5"
  }
 },
 "nbformat": 4,
 "nbformat_minor": 2
}
