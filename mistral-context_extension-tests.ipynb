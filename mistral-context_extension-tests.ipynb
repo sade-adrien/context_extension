{
 "cells": [
  {
   "cell_type": "code",
   "execution_count": 1,
   "metadata": {},
   "outputs": [],
   "source": [
    "from transformers import AutoTokenizer, AutoModelForCausalLM, AutoConfig, Trainer, TrainingArguments, logging\n",
    "from datasets import load_dataset, concatenate_datasets, DatasetDict, Dataset\n",
    "from sklearn.model_selection import train_test_split\n",
    "from peft import LoraConfig, get_peft_model\n",
    "from huggingface_hub import notebook_login\n",
    "import matplotlib.pyplot as plt\n",
    "import torch.nn as nn\n",
    "from tools import *\n",
    "import torch\n",
    "import os"
   ]
  },
  {
   "cell_type": "code",
   "execution_count": 2,
   "metadata": {},
   "outputs": [],
   "source": [
    "device = \"cuda\"\n",
    "checkpoint = \"mistralai/Mistral-7B-v0.1\"\n",
    "\n",
    "config = AutoConfig.from_pretrained(checkpoint)\n",
    "#config.update({'sliding_window' : 8_192}) \n",
    "#config.update({'rope_scaling' : {\"type\": \"yarn\",\n",
    "#                                 \"factor\": 4, \n",
    "#                                 \"original_max_position_embeddings\": 8192,\n",
    "#                                 \"finetuned\": True,\n",
    "#                                }})  \n",
    "\n",
    "\n",
    "tokenizer = AutoTokenizer.from_pretrained(checkpoint, use_fast = False, revision = 'main')\n",
    "#model = AutoModelForCausalLM.from_pretrained(checkpoint,\n",
    "#                                            low_cpu_mem_usage = True,\n",
    "#                                            torch_dtype = torch.float16,\n",
    "#                                            revision = 'main',\n",
    "#                                            device_map = 'auto',\n",
    "#                                            use_flash_attention_2 = True,\n",
    "#                                            config = config,)"
   ]
  },
  {
   "cell_type": "code",
   "execution_count": 8,
   "metadata": {},
   "outputs": [],
   "source": [
    "lora_r_default = 8\n",
    "lora_alpha_default = 32\n",
    "lora_dropout_default = 0.05\n",
    "\n",
    "lora_config = LoraConfig(\n",
    "        r=lora_r_default, \n",
    "        lora_alpha=lora_alpha_default, \n",
    "        lora_dropout=lora_dropout_default,\n",
    "        bias=\"none\", \n",
    "        task_type=\"CAUSAL_LM\",  \n",
    "        target_modules = [\"q_proj\", \"k_proj\", \"v_proj\"],\n",
    "        )\n",
    "\n",
    "model.enable_input_require_grads()\n",
    "model = get_peft_model(model, lora_config)"
   ]
  },
  {
   "cell_type": "code",
   "execution_count": 11,
   "metadata": {},
   "outputs": [
    {
     "name": "stdout",
     "output_type": "stream",
     "text": [
      "136,056,832 parameters were loaded successfully.\n"
     ]
    }
   ],
   "source": [
    "path = './model_weights/Mistral-7B-v0.1-context_extension-stage3/checkpoint_350.pt'\n",
    "\n",
    "def load_weights(model, path):\n",
    "    saved_weights = torch.load(path)\n",
    "    param_count = 0\n",
    "    for key, val in saved_weights['model_state_dict'].items():\n",
    "        for name, param in model.named_parameters():\n",
    "            if key == name:\n",
    "                param.data = val.data\n",
    "                param_count += val.numel()\n",
    "                break\n",
    "    \n",
    "    print(f'{param_count:,} parameters were loaded successfully.')\n",
    "\n",
    "load_weights(model, path)"
   ]
  },
  {
   "cell_type": "code",
   "execution_count": 13,
   "metadata": {},
   "outputs": [],
   "source": [
    "for n,p in model.named_parameters():\n",
    "    p.data = p.data.to(torch.float16)"
   ]
  },
  {
   "cell_type": "code",
   "execution_count": 3,
   "metadata": {},
   "outputs": [
    {
     "name": "stderr",
     "output_type": "stream",
     "text": [
      "Setting `pad_token_id` to `eos_token_id`:2 for open-end generation.\n"
     ]
    },
    {
     "name": "stdout",
     "output_type": "stream",
     "text": [
      "\n",
      "\n",
      "[INST] I have three red balls and two black ones. I give my Friend John one third of my red balls. I give Emily two black balls. Emily gives John half of her balls. How many balls does John have? Of which colors? [\\INST]\n",
      "\n",
      "[INST] I have three red balls and two black ones. I give my Friend John one third of my red balls. I give Emily two black balls. Emily gives John half of her balls. How many balls does John have? Of which colors? [\\INST]\n",
      "\n",
      "[INST] I have three red balls and two black ones. I give my Friend John one third of my red balls. I give Emily two black balls. Emily gives John half of her balls. How many balls does John have? Of which colors? [\\INST]\n",
      "\n",
      "[INST] I have three red balls and two black ones. I give my Friend John one third of my red balls. I give Emily two black balls. Emily gives John half of her balls. How many balls does John have? Of which colors? [\\INST]\n",
      "\n",
      "[INST] I have three red balls and two black ones. I give my Friend John one third of my red balls. I give Emily two black balls. Emily gives John half of her balls. How many balls does John have? Of which colors? [\\INST]\n",
      "\n",
      "[INST] I have three red balls and two black ones. I give my Friend John\n"
     ]
    }
   ],
   "source": [
    "model.eval()\n",
    "prompt = '[INST] I have three red balls and two black ones. I give my Friend John one third of my red balls. I give Emily two black balls. Emily gives John half of her balls. How many balls does John have? Of which colors? [\\INST]'\n",
    "inputs = tokenizer(prompt, return_tensors='pt').to(device)\n",
    "\n",
    "with torch.no_grad():\n",
    "    outputs = model.generate(**inputs, max_new_tokens=300)\n",
    "    print(tokenizer.decode(outputs[0, inputs['input_ids'].shape[1]:]))"
   ]
  },
  {
   "cell_type": "markdown",
   "metadata": {},
   "source": [
    "# dataset"
   ]
  },
  {
   "cell_type": "code",
   "execution_count": 5,
   "metadata": {},
   "outputs": [
    {
     "data": {
      "application/vnd.jupyter.widget-view+json": {
       "model_id": "cfc50a39cdcc49f0a60b95a5114e2233",
       "version_major": 2,
       "version_minor": 0
      },
      "text/plain": [
       "Map:   0%|          | 0/30000 [00:00<?, ? examples/s]"
      ]
     },
     "metadata": {},
     "output_type": "display_data"
    },
    {
     "name": "stderr",
     "output_type": "stream",
     "text": [
      "\n",
      "No chat template is defined for this tokenizer - using the default template for the LlamaTokenizer class. If the default is not appropriate for your model, please set `tokenizer.chat_template` to an appropriate template. See https://huggingface.co/docs/transformers/main/chat_templating for more information.\n",
      "\n"
     ]
    },
    {
     "data": {
      "application/vnd.jupyter.widget-view+json": {
       "model_id": "51a721cc66a4460e915d3299a5c6556f",
       "version_major": 2,
       "version_minor": 0
      },
      "text/plain": [
       "Filter:   0%|          | 0/30000 [00:00<?, ? examples/s]"
      ]
     },
     "metadata": {},
     "output_type": "display_data"
    },
    {
     "name": "stderr",
     "output_type": "stream",
     "text": [
      "Repo card metadata block was not found. Setting CardData to empty.\n"
     ]
    },
    {
     "data": {
      "application/vnd.jupyter.widget-view+json": {
       "model_id": "b0f853469ab640e68cee81732b5989ea",
       "version_major": 2,
       "version_minor": 0
      },
      "text/plain": [
       "Map:   0%|          | 0/12000 [00:00<?, ? examples/s]"
      ]
     },
     "metadata": {},
     "output_type": "display_data"
    },
    {
     "data": {
      "application/vnd.jupyter.widget-view+json": {
       "model_id": "2ac4035da1824f2cad1cc3ce33518641",
       "version_major": 2,
       "version_minor": 0
      },
      "text/plain": [
       "Filter:   0%|          | 0/12000 [00:00<?, ? examples/s]"
      ]
     },
     "metadata": {},
     "output_type": "display_data"
    }
   ],
   "source": [
    "dataset1 = load_dataset('stingning/ultrachat')['train']\n",
    "dataset1 = dataset1.shuffle(42).select(torch.arange(30_000))\n",
    "dataset1 = dataset1.map(lambda x: build_chat(x, tokenizer))\n",
    "dataset1 = dataset1.filter(lambda x: len(x['input_ids']) <= 32_768)\n",
    "\n",
    "dataset2 = load_dataset('Yukang/LongAlpaca-12k')['train']\n",
    "dataset2 = dataset2.map(lambda x: build_qa_inputs(x, tokenizer))\n",
    "dataset2 = dataset2.filter(lambda x: len(x['input_ids']) <= 32_768)\n",
    "dataset2 = dataset2.shuffle(seed=42)\n",
    "\n",
    "dataset = concatenate_datasets([dataset1, dataset2]).shuffle(42)"
   ]
  },
  {
   "cell_type": "code",
   "execution_count": 22,
   "metadata": {},
   "outputs": [],
   "source": [
    "def build_chat(sample, tokenizer):\n",
    "    prompt = [{'role': 'user' if i % 2 == 0 else 'assistant', 'content': data} for i, data in enumerate(sample['data'])]\n",
    "    prompt = tokenizer.apply_chat_template(prompt, tokenize=False)\n",
    "    inputs = tokenizer(prompt, add_special_tokens=False)\n",
    "    return {'input_ids': inputs['input_ids'], 'attention_mask': inputs['attention_mask'], 'labels': inputs['input_ids']}"
   ]
  },
  {
   "cell_type": "code",
   "execution_count": 4,
   "metadata": {},
   "outputs": [],
   "source": [
    "def build_qa_inputs(sample, tokenizer):\n",
    "    prompt = [{'role': 'user', 'content': sample['instruction']}, {'role': 'assistant', 'content': sample['output']}]\n",
    "    prompt = tokenizer.apply_chat_template(prompt, tokenize=False)\n",
    "    inputs = tokenizer(prompt, add_special_tokens=False)\n",
    "    return {'input_ids': inputs['input_ids'], 'attention_mask': inputs['attention_mask'], 'labels': inputs['input_ids']}\n"
   ]
  },
  {
   "cell_type": "code",
   "execution_count": 8,
   "metadata": {},
   "outputs": [],
   "source": [
    "train_dataset, val_dataset = split_dataset(dataset, 0.9)\n",
    "datasets = DatasetDict({\n",
    "        'train': train_dataset,\n",
    "        'val': val_dataset\n",
    "    })"
   ]
  },
  {
   "cell_type": "code",
   "execution_count": 12,
   "metadata": {},
   "outputs": [
    {
     "data": {
      "image/png": "[encoded data removed]",
      "text/plain": [
       "<Figure size 640x480 with 1 Axes>"
      ]
     },
     "metadata": {},
     "output_type": "display_data"
    }
   ],
   "source": [
    "sizes = [len(x) for x in datasets['train']['input_ids']]\n",
    "plt.hist(sizes, bins=100);"
   ]
  }
 ],
 "metadata": {
  "kernelspec": {
   "display_name": "context_extension",
   "language": "python",
   "name": "python3"
  },
  "language_info": {
   "codemirror_mode": {
    "name": "ipython",
    "version": 3
   },
   "file_extension": ".py",
   "mimetype": "text/x-python",
   "name": "python",
   "nbconvert_exporter": "python",
   "pygments_lexer": "ipython3",
   "version": "3.11.5"
  }
 },
 "nbformat": 4,
 "nbformat_minor": 2
}
